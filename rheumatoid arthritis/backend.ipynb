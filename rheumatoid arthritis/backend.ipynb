{
 "cells": [
  {
   "cell_type": "code",
   "execution_count": 2,
   "metadata": {},
   "outputs": [],
   "source": [
    "import pandas as pd\n",
    "import numpy as np"
   ]
  },
  {
   "cell_type": "markdown",
   "metadata": {},
   "source": [
    "# read data for prediction"
   ]
  },
  {
   "cell_type": "code",
   "execution_count": 39,
   "metadata": {},
   "outputs": [],
   "source": [
    "data= pd.read_excel(\"PredictionData.xlsx\")\n",
    "id= 55\n",
    "precent_count=0\n"
   ]
  },
  {
   "cell_type": "markdown",
   "metadata": {},
   "source": [
    "# count for prediction according to the reseach paper"
   ]
  },
  {
   "cell_type": "code",
   "execution_count": 40,
   "metadata": {},
   "outputs": [
    {
     "data": {
      "text/plain": [
       "Gender                                           Female\n",
       "ACPA_AntiBodies                                 than 20\n",
       "arthralgia                                          YES\n",
       "rheumatoidfactorAntiBodies              Greater than 20\n",
       "siblings                                           TWIN\n",
       "ParentOfRA                                          YES\n",
       "smoker                                              YES\n",
       "HLA-DRB gene                                        YES\n",
       "amino_acids_at_positions_11,13,71,74                NaN\n",
       "AntiCCP                                            BOTH\n",
       "Result                                              NaN\n",
       "NumberOfAccess                                        1\n",
       "Name: 0, dtype: object"
      ]
     },
     "execution_count": 40,
     "metadata": {},
     "output_type": "execute_result"
    }
   ],
   "source": [
    "precent_count=0\n",
    "user_data_prediction=0\n",
    "# know the raw of the patient in the saved data to access his data\n",
    "for i in range(len(data)):\n",
    "    if data.iloc[i,0] == id:\n",
    "        id_raw=i\n",
    "        user_data_prediction=data.iloc[id_raw]\n",
    "        user_data_prediction = user_data_prediction.drop('ID', axis=0)\n",
    "user_data_prediction"
   ]
  },
  {
   "cell_type": "code",
   "execution_count": 42,
   "metadata": {},
   "outputs": [
    {
     "name": "stdout",
     "output_type": "stream",
     "text": [
      "87.4\n",
      "4535.832\n"
     ]
    }
   ],
   "source": [
    "precent_count=0\n",
    "user_data_prediction=0\n",
    "# know the raw of the patient in the saved data to access his data\n",
    "for i in range(len(data)):\n",
    "    if data.iloc[i,0] == id:\n",
    "        id_raw=i\n",
    "        user_data_prediction=data.iloc[id_raw]\n",
    "        user_data_prediction = user_data_prediction.drop('ID', axis=0)\n",
    "\n",
    "# count the precent of prediction\n",
    "if user_data_prediction[\"ACPA_AntiBodies\"]== \"Greater than 20\" and user_data_prediction[\"rheumatoidfactorAntiBodies\"]== \"Greater than 20\":\n",
    "    print(\"unfortunatley you'll develop RA in the next 5 years\")\n",
    "else:\n",
    "    if user_data_prediction[\"Gender\"]== \"Female\":\n",
    "        precent_count+=2.4\n",
    "    elif user_data_prediction[\"Gender\"]== \"Male\":\n",
    "        precent_count+=1.1\n",
    "    \n",
    "    \n",
    "    if user_data_prediction[\"arthralgia\"]== \"YES\" and user_data_prediction[\"rheumatoidfactorAntiBodies\"]== \"Greater than 20\" :\n",
    "        precent_count+=60\n",
    "    elif user_data_prediction[\"rheumatoidfactorAntiBodies\"]== \"Greater than 20\":\n",
    "        precent_count+= 31\n",
    "\n",
    "    if user_data_prediction[\"arthralgia\"]== \"YES\" and user_data_prediction[\"ACPA_AntiBodies\"]== \"Greater than 20\":\n",
    "        precent_count+=60\n",
    "    elif user_data_prediction[\"ACPA_AntiBodies\"]== \"Greater than 20\":\n",
    "        precent_count+= 5\n",
    "        \n",
    "\n",
    "    if user_data_prediction[\"smoker\"]== \"YES\":\n",
    "        precent_count+= 25\n",
    "        print(precent_count)\n",
    "\n",
    "    if user_data_prediction[\"amino_acids_at_positions_11,13,71,74\"]== \"YES\":\n",
    "        precent_count+= 12.7\n",
    "    \n",
    "    if user_data_prediction[\"AntiCCP\"]== \"ACCP1\":\n",
    "        precent_count+= 41\n",
    "    elif user_data_prediction[\"AntiCCP\"]== \"ACCP2\":\n",
    "        precent_count+= 34\n",
    "    elif user_data_prediction[\"AntiCCP\"]== \"BOTH\":\n",
    "        precent_count+= 34+41\n",
    "    \n",
    "    if user_data_prediction[\"HLA-DRB gene\"]== \"YES\":\n",
    "        precent_count*=3\n",
    "    \n",
    "    if user_data_prediction[\"ParentOfRA\"]== \"YES\" and user_data_prediction[\"siblings\"]== \"YES\" or user_data_prediction[\"ParentOfRA\"]== \"YES\" and user_data_prediction[\"siblings\"]== \"TWIN\":\n",
    "        precent_count*= 9.31\n",
    "    elif user_data_prediction[\"ParentOfRA\"]== \"YES\":\n",
    "        precent_count*=3.02\n",
    "        if user_data_prediction[\"siblings\"]== \"YES\":\n",
    "            precent_count*=4.64\n",
    "        if user_data_prediction[\"siblings\"]== \"TWIN\":\n",
    "            precent_count*=6.48\n",
    "    \n",
    "print(precent_count)\n",
    "\n"
   ]
  },
  {
   "cell_type": "code",
   "execution_count": 8,
   "metadata": {},
   "outputs": [
    {
     "ename": "NameError",
     "evalue": "name 'user_data_prediction' is not defined",
     "output_type": "error",
     "traceback": [
      "\u001b[1;31m---------------------------------------------------------------------------\u001b[0m",
      "\u001b[1;31mNameError\u001b[0m                                 Traceback (most recent call last)",
      "\u001b[1;32mc:\\Users\\abdel\\OneDrive\\Desktop\\Hbod\\backend.ipynb Cell 6\u001b[0m line \u001b[0;36m1\n\u001b[1;32m----> <a href='vscode-notebook-cell:/c%3A/Users/abdel/OneDrive/Desktop/Hbod/backend.ipynb#X14sZmlsZQ%3D%3D?line=0'>1</a>\u001b[0m user_data_prediction[\u001b[39m\"\u001b[39m\u001b[39mACPA_AntiBodies\u001b[39m\u001b[39m\"\u001b[39m]\n",
      "\u001b[1;31mNameError\u001b[0m: name 'user_data_prediction' is not defined"
     ]
    }
   ],
   "source": [
    "user_data_prediction[\"ACPA_AntiBodies\"]"
   ]
  },
  {
   "cell_type": "markdown",
   "metadata": {},
   "source": [
    "# count the score according to the American college of rheumatology"
   ]
  },
  {
   "cell_type": "code",
   "execution_count": 33,
   "metadata": {},
   "outputs": [
    {
     "data": {
      "text/html": [
       "<div>\n",
       "<style scoped>\n",
       "    .dataframe tbody tr th:only-of-type {\n",
       "        vertical-align: middle;\n",
       "    }\n",
       "\n",
       "    .dataframe tbody tr th {\n",
       "        vertical-align: top;\n",
       "    }\n",
       "\n",
       "    .dataframe thead th {\n",
       "        text-align: right;\n",
       "    }\n",
       "</style>\n",
       "<table border=\"1\" class=\"dataframe\">\n",
       "  <thead>\n",
       "    <tr style=\"text-align: right;\">\n",
       "      <th></th>\n",
       "      <th>ID</th>\n",
       "      <th>total number of pianful joints</th>\n",
       "      <th>small joints number</th>\n",
       "      <th>large joints number</th>\n",
       "      <th>result of RF</th>\n",
       "      <th>result of ACPA</th>\n",
       "      <th>symptoms duration</th>\n",
       "      <th>C-reactive protien</th>\n",
       "      <th>result of ESR</th>\n",
       "      <th>Final result</th>\n",
       "    </tr>\n",
       "  </thead>\n",
       "  <tbody>\n",
       "    <tr>\n",
       "      <th>0</th>\n",
       "      <td>jj</td>\n",
       "      <td>11</td>\n",
       "      <td>5</td>\n",
       "      <td>5</td>\n",
       "      <td>23</td>\n",
       "      <td>23</td>\n",
       "      <td>6</td>\n",
       "      <td>6</td>\n",
       "      <td>16</td>\n",
       "      <td>NaN</td>\n",
       "    </tr>\n",
       "  </tbody>\n",
       "</table>\n",
       "</div>"
      ],
      "text/plain": [
       "   ID  total number of pianful joints  small joints number  \\\n",
       "0  jj                              11                    5   \n",
       "\n",
       "   large joints number  result of RF  result of ACPA  symptoms duration  \\\n",
       "0                    5            23              23                  6   \n",
       "\n",
       "   C-reactive protien  result of ESR  Final result  \n",
       "0                   6             16           NaN  "
      ]
     },
     "execution_count": 33,
     "metadata": {},
     "output_type": "execute_result"
    }
   ],
   "source": [
    "# read data to diagnose\n",
    "diagnose_data= pd.read_excel(\"fordiagnose.xlsx\")\n",
    "diagnose_data"
   ]
  },
  {
   "cell_type": "code",
   "execution_count": 36,
   "metadata": {},
   "outputs": [
    {
     "name": "stdout",
     "output_type": "stream",
     "text": [
      "5\n",
      "8\n",
      "9\n",
      "11\n",
      "13\n"
     ]
    },
    {
     "data": {
      "text/plain": [
       "15"
      ]
     },
     "execution_count": 36,
     "metadata": {},
     "output_type": "execute_result"
    }
   ],
   "source": [
    "# know the raw of the patient in the saved data to access his data\n",
    "diagnose_score=0\n",
    "for i in range(len(diagnose_data)):\n",
    "    if diagnose_data.iloc[i,0] == \"jj\":\n",
    "        id_raw=i\n",
    "        user_data_diagnose=diagnose_data.iloc[id_raw]\n",
    "        user_data_diagnose = user_data_diagnose.drop('ID', axis=0)\n",
    "\n",
    "# count the score\n",
    "if int(user_data_diagnose[\"total number of pianful joints\"])> 10:\n",
    "    diagnose_score+=5\n",
    "    print(diagnose_score)\n",
    "if int(user_data_diagnose[\"small joints number\"]) in range(1,4) :\n",
    "    diagnose_score+=2\n",
    "    print(diagnose_score)\n",
    "elif int(user_data_diagnose[\"small joints number\"]) in range(4,11) :\n",
    "    diagnose_score+=3\n",
    "    print(diagnose_score)\n",
    "\n",
    "if int(user_data_diagnose[\"large joints number\"]) in range(2,11) :\n",
    "    diagnose_score+=1\n",
    "    print(diagnose_score)\n",
    "\n",
    "if int(user_data_diagnose[\"result of RF\"])>20 and int(user_data_diagnose[\"result of RF\"])<=23:\n",
    "    diagnose_score+=2\n",
    "    print(diagnose_score)\n",
    "elif int(user_data_diagnose[\"result of RF\"]) >23:\n",
    "    diagnose_score+=3\n",
    "    print(diagnose_score)\n",
    "\n",
    "if int(user_data_diagnose[\"result of ACPA\"]) > 20 and int(user_data_diagnose[\"result of ACPA\"]) <= 23:\n",
    "    diagnose_score+=2\n",
    "    print(diagnose_score)\n",
    "elif int(user_data_diagnose[\"result of ACPA\"]) >23:\n",
    "    diagnose_score+=3\n",
    "\n",
    "if int(user_data_diagnose[\"symptoms duration\"]) >=6:\n",
    "    diagnose_score+=1\n",
    "\n",
    "if int(user_data_diagnose[\"C-reactive protien\"]) >6:\n",
    "    diagnose_score+=1\n",
    "\n",
    "if int(user_data_diagnose[\"result of ESR\"]) >15:\n",
    "    diagnose_score+=1\n",
    "diagnose_score"
   ]
  },
  {
   "cell_type": "code",
   "execution_count": 35,
   "metadata": {},
   "outputs": [
    {
     "data": {
      "text/plain": [
       "total number of pianful joints     11\n",
       "small joints number                 5\n",
       "large joints number                 5\n",
       "result of RF                       23\n",
       "result of ACPA                     23\n",
       "symptoms duration                   6\n",
       "C-reactive protien                  6\n",
       "result of ESR                      16\n",
       "Final result                      NaN\n",
       "Name: 0, dtype: object"
      ]
     },
     "execution_count": 35,
     "metadata": {},
     "output_type": "execute_result"
    }
   ],
   "source": [
    "user_data_diagnose"
   ]
  },
  {
   "cell_type": "code",
   "execution_count": 26,
   "metadata": {},
   "outputs": [],
   "source": [
    "if 1 in range(24,999999999999999):\n",
    "    print(True)"
   ]
  },
  {
   "cell_type": "code",
   "execution_count": null,
   "metadata": {},
   "outputs": [],
   "source": []
  }
 ],
 "metadata": {
  "kernelspec": {
   "display_name": "Python 3",
   "language": "python",
   "name": "python3"
  },
  "language_info": {
   "codemirror_mode": {
    "name": "ipython",
    "version": 3
   },
   "file_extension": ".py",
   "mimetype": "text/x-python",
   "name": "python",
   "nbconvert_exporter": "python",
   "pygments_lexer": "ipython3",
   "version": "3.11.1"
  },
  "orig_nbformat": 4
 },
 "nbformat": 4,
 "nbformat_minor": 2
}
